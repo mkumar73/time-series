{
 "cells": [
  {
   "cell_type": "markdown",
   "metadata": {},
   "source": [
    "# Air Passenger forecasting - LSTM"
   ]
  },
  {
   "cell_type": "code",
   "execution_count": 1,
   "metadata": {
    "collapsed": true
   },
   "outputs": [],
   "source": [
    "import pandas as pd\n",
    "import numpy as np\n",
    "import matplotlib.pylab as plt\n",
    "%matplotlib inline\n",
    "from matplotlib.pylab import rcParams\n",
    "rcParams['figure.figsize'] = 15, 6"
   ]
  },
  {
   "cell_type": "code",
   "execution_count": 2,
   "metadata": {
    "collapsed": true
   },
   "outputs": [],
   "source": [
    "air_passengers = pd.read_csv(\"data/AirPassengers.csv\", header = 0, parse_dates = [0], \n",
    "                             names = ['Month', 'Passengers'], index_col = 0)\n"
   ]
  },
  {
   "cell_type": "markdown",
   "metadata": {
    "collapsed": true
   },
   "source": [
    "## LSTM Network"
   ]
  },
  {
   "cell_type": "code",
   "execution_count": null,
   "metadata": {
    "collapsed": true
   },
   "outputs": [],
   "source": [
    "import tensorflow as tf\n",
    "import numpy as np\n",
    "import matplotlib.pyplot as plt\n",
    "import os\n",
    "\n",
    "LOGDIR = \"graphs/ts_ap_lstm\"\n",
    "\n",
    "# network structure\n",
    "n_inputs = 1\n",
    "n_outputs = 1\n",
    "n_steps = 20\n",
    "n_neurons = 200\n",
    "lr = 0.001\n",
    "\n",
    "X = tf.placeholder(dtype=tf.float32, shape=[None, n_steps, n_inputs], name='input')\n",
    "y = tf.placeholder(dtype=tf.float32, shape=[None, n_steps, n_outputs], name='output')\n",
    "\n",
    "# basic RNN cell\n",
    "cell = tf.contrib.rnn.BasicLSTMCell(num_units=n_neurons, activation=tf.nn.relu)\n",
    "# without wrapper, normal dynamic rnn cell for output and cell state\n",
    "output_rnn, cell_state = tf.nn.dynamic_rnn(cell=cell, inputs=X, dtype=tf.float32)\n",
    "\n",
    "# stacked layer on top of RNN\n",
    "# reshape the stacked output to add a single fully connected layer\n",
    "# reshape to [batch_size*n_steps, n_neurons]\n",
    "stacked_rnn_op = tf.reshape(output_rnn, [-1, n_neurons])\n",
    "fc_stacked_op = tf.layers.dense(inputs=stacked_rnn_op, units=n_outputs, activation=None)\n",
    "# output from the fc layer, reshape back to [batch_size, n_steps, n_outputs]\n",
    "output = tf.reshape(fc_stacked_op, [-1, n_steps, n_outputs])\n",
    "\n",
    "loss = tf.reduce_mean(tf.square(output-y))\n",
    "optimizer = tf.train.AdamOptimizer(learning_rate=lr).minimize(loss)\n",
    "# network structure ends here."
   ]
  }
 ],
 "metadata": {
  "kernelspec": {
   "display_name": "Python 3",
   "language": "python",
   "name": "python3"
  },
  "language_info": {
   "codemirror_mode": {
    "name": "ipython",
    "version": 3
   },
   "file_extension": ".py",
   "mimetype": "text/x-python",
   "name": "python",
   "nbconvert_exporter": "python",
   "pygments_lexer": "ipython3",
   "version": "3.6.3"
  }
 },
 "nbformat": 4,
 "nbformat_minor": 2
}
